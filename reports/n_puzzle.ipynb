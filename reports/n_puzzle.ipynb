{
 "cells": [
  {
   "attachments": {},
   "cell_type": "markdown",
   "metadata": {},
   "source": [
    "# [N-Puzzle](00_main_report.ipynb)\n",
    "\n",
    "N-Puzzle is a sliding puzzle that consists of a frame of numbered square tiles in random order with one tile missing. The puzzle also exists in other sizes, particularly the smaller 8-puzzle. If the size is 3×3 tiles, the puzzle is called the 8-puzzle or 9-puzzle, and if 4×4 tiles, the puzzle is called the 15-puzzle or 16-puzzle. Names for other sizes are [n-puzzles](https://en.wikipedia.org/wiki/N-puzzle) where n is the number of tiles. If the size is 2×2 tiles, the puzzle is called the 4-puzzle or 5-puzzle, and if 5×5 tiles, the puzzle is called the 25-puzzle or 26-puzzle. The objective of the puzzle is to place the tiles in order by making sliding moves that use the empty space.\n",
    "\n",
    "\n",
    "This notebook pretends to be a report of the N-Puzzle problem. It will be divided in the following sections:\n",
    "\n",
    "* [Problem definition](#Problem-definition)\n",
    "* [Problem solving](#Problem-solving)\n",
    "    - Search Algorithms\n",
    "* [Problem solving with many initial states](#Problem-solving-with-many-initial-states)\n",
    "\n",
    "\n"
   ]
  },
  {
   "cell_type": "code",
   "execution_count": 3,
   "metadata": {},
   "outputs": [],
   "source": [
    "import colorama"
   ]
  },
  {
   "attachments": {},
   "cell_type": "markdown",
   "metadata": {},
   "source": [
    "### [Solvability](https://www.youtube.com/watch?v=bhmCmbj9VAg)\n",
    "\n",
    "The way to know if a puzzle is solvable is to **count the number of inversions in the puzzle**. If the number of inversions is even, the puzzle is solvable. If the number of inversions is odd, the puzzle is not solvable.\n",
    "\n",
    "- An inversion is **a pair of tiles where the first tile is greater than the second tile and appears before the second tile** in the puzzle.\n",
    "\n",
    "$$ \\text{Inversions} = \\sum_{i=1}^{n} \\sum_{j=i+1}^{n} \\mathbb{1} \\{ A[i] > A[j] \\} $$\n",
    "where\n",
    "$A$ is the array of the puzzle.\n",
    "\n",
    "$ \\text{Inversions} = odd \\implies \\text{Isn't solvable} $\n",
    "\n",
    "$ \\text{Inversions} = even \\implies \\text{Is solvable} $\n"
   ]
  },
  {
   "cell_type": "code",
   "execution_count": 4,
   "metadata": {},
   "outputs": [],
   "source": [
    "def is_solvable(grid: list) -> bool:\n",
    "    \"\"\"Checks if the grid is solvable or not.\n",
    "    \n",
    "    Args:\n",
    "        grid (list): The grid to check.\n",
    "    \n",
    "    Returns:\n",
    "        bool: True if the grid is solvable, False otherwise.\n",
    "    \"\"\"\n",
    "    # The flat grid should have a length of n^2 - 1 (n is the size of the grid)\n",
    "    flat_grid = [item for sublist in grid for item in sublist]\n",
    "    flat_grid.remove(0)  # Remove the zero from the grid\n",
    "    inversions = 0  # Count the number of inversions\n",
    "    \n",
    "    for i in range(len(flat_grid)):  # For each number in the grid\n",
    "        for j in range(i + 1, len(flat_grid)):  # For each number after the current number\n",
    "            if flat_grid[i] > flat_grid[j]:  # If the number is greater than the next number\n",
    "                inversions += 1  # Increment the number of inversions\n",
    "                print(flat_grid[i], '>', flat_grid[j], 'inversions:', inversions)  # Print the number of inversions\n",
    "\n",
    "    return inversions % 2 == 0  # Return True if the number of inversions is even"
   ]
  },
  {
   "cell_type": "code",
   "execution_count": 5,
   "metadata": {},
   "outputs": [
    {
     "name": "stdout",
     "output_type": "stream",
     "text": [
      "The grid is \u001b[32msolvable\u001b[0m\n",
      "[1, 2, 3]\n",
      "[4, 5, 6]\n",
      "[7, 8, 0]\n"
     ]
    }
   ],
   "source": [
    "initial_grid: list = [[1, 2, 3], [4, 5, 6], [7, 8, 0]]  # Solvable\n",
    "# initial_grid: list = [[1, 2, 3], [4, 5, 6], [8, 7, 0]]  # Not solvable\n",
    "\n",
    "\n",
    "print(f'The grid is {colorama.Fore.GREEN if is_solvable(initial_grid) else colorama.Fore.RED}{\"solvable\" if is_solvable(initial_grid) else \"not solvable\"}{colorama.Style.RESET_ALL}')\n",
    "print(*initial_grid, sep='\\n')  # * unpacks the list, sep='\\n' prints a new line after each row"
   ]
  },
  {
   "cell_type": "markdown",
   "metadata": {},
   "source": []
  },
  {
   "cell_type": "code",
   "execution_count": null,
   "metadata": {},
   "outputs": [],
   "source": []
  },
  {
   "cell_type": "markdown",
   "metadata": {},
   "source": []
  },
  {
   "cell_type": "code",
   "execution_count": null,
   "metadata": {},
   "outputs": [],
   "source": []
  }
 ],
 "metadata": {
  "kernelspec": {
   "display_name": ".venv",
   "language": "python",
   "name": "python3"
  },
  "language_info": {
   "codemirror_mode": {
    "name": "ipython",
    "version": 3
   },
   "file_extension": ".py",
   "mimetype": "text/x-python",
   "name": "python",
   "nbconvert_exporter": "python",
   "pygments_lexer": "ipython3",
   "version": "3.11.1 (tags/v3.11.1:a7a450f, Dec  6 2022, 19:58:39) [MSC v.1934 64 bit (AMD64)]"
  },
  "orig_nbformat": 4,
  "vscode": {
   "interpreter": {
    "hash": "ba1a57c99dd12c2ed6d86000860afd60b875372e8f08eb18decb25556efe31d1"
   }
  }
 },
 "nbformat": 4,
 "nbformat_minor": 2
}
