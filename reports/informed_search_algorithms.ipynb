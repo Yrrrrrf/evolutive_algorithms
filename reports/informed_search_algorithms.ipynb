{
 "cells": [
  {
   "attachments": {},
   "cell_type": "markdown",
   "metadata": {},
   "source": [
    "# [Informed Search Algorithms](00_main_report.ipynb)\n",
    "\n",
    "<!-- this file should be really similar to the uninformed search algorithms one... -->\n",
    "\n",
    "The informed search algorithms are a class of search algorithms that use problem-specific knowledge to guide the search. Informed search algorithms are more efficient than uninformed search algorithms because they use problem-specific knowledge to guide the search. Informed search algorithms are also called heuristic search algorithms because they use heuristics to guide the search.\n",
    "\n",
    "- A* Search\n",
    "- Greedy Best First Search (GBFS)\n",
    "- Hill Climbing Search (HCS)\n",
    "- Recursive Best First Search (RBFS)\n",
    "- Iterative Deepening A* Search (IDA*)"
   ]
  },
  {
   "cell_type": "code",
   "execution_count": 1,
   "metadata": {},
   "outputs": [],
   "source": [
    "# imports"
   ]
  },
  {
   "attachments": {},
   "cell_type": "markdown",
   "metadata": {},
   "source": [
    "### A* Search\n",
    "\n",
    "A* search uses a function $f(n)$ to guide the search. The **evaluation function** $f(n)$ is defined as:\n",
    "\n",
    "$$f(n) = g(n) + h(n)$$\n",
    "\n",
    "where $g(n)$ is the cost of the path from the initial state to node $n$, and $h(n)$ is the heuristic function that estimates the cost of the cheapest path from node $n$ to the goal. The heuristic function $h(n)$ must be admissible, meaning that it never overestimates the actual cost to reach the goal.\n",
    "\n",
    "- $ Complexity: O(b^d)$\n",
    "- $ Space: O(b^d)$\n",
    "\n",
    "where $b$ is the branching factor and $d$ is the depth of the goal node.\n",
    "\n",
    "![dfs_01](./../resources/img/a_star.gif)"
   ]
  },
  {
   "cell_type": "code",
   "execution_count": 1,
   "metadata": {},
   "outputs": [],
   "source": [
    "# def a_star_search(problem: Problem, h: Callable[[Node], float]) -> Node:\n",
    "#     \"\"\"\n",
    "#     A* search algorithm.\n",
    "#     \"\"\"\n",
    "#     # Initialize the frontier using the initial state of problem\n",
    "#     frontier: PriorityQueue = PriorityQueue()\n",
    "#     frontier.put((0, Node(problem.initial)))\n",
    "\n",
    "#     # Initialize an empty explored set\n",
    "#     explored: Set[Node] = set()\n",
    "\n",
    "#     # Loop until the frontier is empty\n",
    "#     while not frontier.empty():\n",
    "#         # Choose a leaf node and remove it from the frontier\n",
    "#         node: Node = frontier.get()[1]\n",
    "\n",
    "#         # If the node contains a goal state then return the corresponding solution\n",
    "#         if problem.goal_test(node.state):\n",
    "#             return node\n",
    "\n",
    "#         # Add the node to the explored set\n",
    "#         explored.add(node)\n",
    "\n",
    "#         # Expand the chosen node, adding the resulting nodes to the frontier\n",
    "#         # only if not in the frontier or explored set\n",
    "#         for child in node.expand(problem):\n",
    "#             if child not in explored and child not in frontier:\n",
    "#                 frontier.put((h(child) + child.path_cost, child))\n",
    "#             elif child in frontier:\n",
    "#                 # If the node is already in the frontier, check if the new path\n",
    "#                 # to that node is better, using cost + heuristic as the measure.\n",
    "#                 # If so, replace the old node with the new one.\n",
    "#                 # Note that the PriorityQueue class does not allow us to update\n",
    "#                 # the priority of an item, so we have to remove and add the\n",
    "#                 # updated item.\n",
    "#                 current_cost, _ = frontier.get((h(child) + child.path_cost, child))\n",
    "#                 best_cost, _ = frontier.get((h(child) + child.path_cost, child))\n",
    "#                 if h(child) + child.path_cost < best_cost:\n",
    "#                     frontier.put((h(child) + child.path_cost, child))\n",
    "#                 else:\n",
    "#                     frontier.put((current_cost, child))\n",
    "\n",
    "#     # Return failure if no solution is found\n",
    "#     return None\n",
    "\n"
   ]
  },
  {
   "attachments": {},
   "cell_type": "markdown",
   "metadata": {},
   "source": [
    "### [Greedy Best First Search (GBFS)](https://en.wikipedia.org/wiki/Best-first_search#Greedy_BFS)\n",
    "\n",
    "Is similar to [uniform cost search](uninformed_search_algorithms.ipynb#uniform-cost-search-ucs) except that **uses a heuristic function to guide the search** instead of the cost of the path from the initial state to the node.\n",
    "\n",
    "The **heuristic function must be admissible**, meaning that **it never overestimates the actual cost** to reach the goal.\n"
   ]
  },
  {
   "cell_type": "code",
   "execution_count": null,
   "metadata": {},
   "outputs": [],
   "source": []
  },
  {
   "cell_type": "markdown",
   "metadata": {},
   "source": []
  },
  {
   "cell_type": "code",
   "execution_count": null,
   "metadata": {},
   "outputs": [],
   "source": []
  }
 ],
 "metadata": {
  "kernelspec": {
   "display_name": ".venv",
   "language": "python",
   "name": "python3"
  },
  "language_info": {
   "codemirror_mode": {
    "name": "ipython",
    "version": 3
   },
   "file_extension": ".py",
   "mimetype": "text/x-python",
   "name": "python",
   "nbconvert_exporter": "python",
   "pygments_lexer": "ipython3",
   "version": "3.11.1 (tags/v3.11.1:a7a450f, Dec  6 2022, 19:58:39) [MSC v.1934 64 bit (AMD64)]"
  },
  "orig_nbformat": 4,
  "vscode": {
   "interpreter": {
    "hash": "ba1a57c99dd12c2ed6d86000860afd60b875372e8f08eb18decb25556efe31d1"
   }
  }
 },
 "nbformat": 4,
 "nbformat_minor": 2
}
