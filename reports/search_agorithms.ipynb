{
 "cells": [
  {
   "attachments": {},
   "cell_type": "markdown",
   "metadata": {},
   "source": [
    "# Search Algorithms in Machine Learning\n",
    "\n",
    "This is a simple implementation of the 8-puzzle game using the A* algorithm. The A* algorithm is a best-first search algorithm that uses a heuristic function to guide the search. The heuristic function used in this implementation is the Manhattan distance.\n",
    "\n",
    "This report also contains the implementation of the most popular Search Algorithms.\n",
    "\n",
    "## Table of Contents\n",
    "\n",
    "### Search Algorithms\n",
    "\n",
    "#### Informed Search\n",
    "\n"
   ]
  },
  {
   "cell_type": "code",
   "execution_count": null,
   "metadata": {},
   "outputs": [],
   "source": []
  }
 ],
 "metadata": {
  "kernelspec": {
   "display_name": ".venv",
   "language": "python",
   "name": "python3"
  },
  "language_info": {
   "name": "python",
   "version": "3.11.1 (tags/v3.11.1:a7a450f, Dec  6 2022, 19:58:39) [MSC v.1934 64 bit (AMD64)]"
  },
  "orig_nbformat": 4,
  "vscode": {
   "interpreter": {
    "hash": "ba1a57c99dd12c2ed6d86000860afd60b875372e8f08eb18decb25556efe31d1"
   }
  }
 },
 "nbformat": 4,
 "nbformat_minor": 2
}
