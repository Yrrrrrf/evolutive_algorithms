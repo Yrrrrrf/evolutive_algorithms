{
 "cells": [
  {
   "attachments": {},
   "cell_type": "markdown",
   "metadata": {},
   "source": [
    "# Search Algorithms in Machine Learning\n",
    "\n",
    "This is a simple implementation of the 8-puzzle game using the A* algorithm. The A* algorithm is a best-first search algorithm that uses a heuristic function to guide the search. The heuristic function used in this implementation is the Manhattan distance.\n",
    "\n",
    "This report also contains the implementation of the most popular Search Algorithms.\n",
    "\n",
    "## Table of Contents\n",
    "\n",
    "### Search Algorithms\n",
    "\n",
    "#### Informed Search\n",
    "\n"
   ]
  },
  {
   "cell_type": "code",
   "execution_count": null,
   "metadata": {},
   "outputs": [],
   "source": []
  }
 ],
 "metadata": {
  "language_info": {
   "name": "python"
  },
  "orig_nbformat": 4
 },
 "nbformat": 4,
 "nbformat_minor": 2
}
