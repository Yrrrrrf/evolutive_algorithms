{
 "cells": [
  {
   "attachments": {},
   "cell_type": "markdown",
   "metadata": {},
   "source": [
    "# [Uninformed Search Algorithms](00_main_report.ipynb)\n",
    "\n",
    "The informed search algorithms are a class of algorithms that use problem-specific knowledge to guide the search. \n",
    "\n",
    "$$ f(n) = g(n) + h(n) $$\n",
    "\n",
    "where $f(n)$ is the total cost of the node, $g(n)$ is the cost to reach the node, and $h(n)$ is the heuristic cost of the node.\n",
    "\n",
    "```mermaid\n",
    "graph LR\n",
    "A((Start)) --> B((Goal))\n",
    "A --> D((D))\n",
    "A --> E((E))\n",
    "D --> F((F))\n",
    "E --> F\n",
    "F --> B\n",
    "```\n",
    "\n",
    "In this notebook, we will implement the following informed search algorithms:\n",
    "\n",
    "- Depth First Search (DFS)\n",
    "    - Depth Limited Search (DLS)\n",
    "    - Iterative Deepening Search (IDS)\n",
    "    - Recursive Depth Limited Search (RDLS)\n",
    "- Breadth First Search (BFS)\n",
    "- Uniform Cost Search  (UCS)"
   ]
  },
  {
   "cell_type": "code",
   "execution_count": 1,
   "metadata": {},
   "outputs": [],
   "source": [
    "#  imports"
   ]
  },
  {
   "attachments": {},
   "cell_type": "markdown",
   "metadata": {},
   "source": [
    "### [Depth First Search (DFS)](https://en.wikipedia.org/wiki/Depth-first_search)\n",
    "\n",
    "Is an algorithm for **traversing or searching tree or graph data structures**. The algorithm starts at the root node (selecting some arbitrary node as the root node in the case of a graph) and explores as far as possible along each branch before backtracking.\n",
    "\n",
    "- $ Complexity: O(b^d) $\n",
    "- $ Space: O(bd) $\n",
    "\n",
    "where $b$ is the branching factor and $d$ is the depth of the goal node.\n",
    "\n",
    "![dfs_01](./../resources/img/dfs_vs_bfs.gif)"
   ]
  },
  {
   "cell_type": "code",
   "execution_count": 7,
   "metadata": {},
   "outputs": [],
   "source": [
    "def breadth_first_search(self, initial_state) -> None:\n",
    "    \"\"\"\n",
    "    Breadth First Search algorithm\n",
    "    \"\"\"\n",
    "    pass"
   ]
  },
  {
   "attachments": {},
   "cell_type": "markdown",
   "metadata": {},
   "source": [
    "#### Depth Limited Search (DLS)\n",
    "\n",
    "Is a variant of depth-first search that limits the depth of the search tree. It is a recursive algorithm that uses a depth limit $l$ as a stopping condition. If the depth of the node exceeds the limit, the search is terminated.\n",
    "\n",
    "##### Iterative (IDS or IDDFS)\n",
    "\n",
    "Is a state space/graph search strategy in which a depth-limited version of depth-first search is run repeatedly with increasing depth limits until the goal is found.\n",
    "\n",
    "IDDFS is optimal like breadth-first search, but **uses much less memory; at each iteration**, it visits the nodes in the search tree in the same order as depth-first search, but the cumulative order in which nodes are first visited is effectively breadth-firs\n",
    "\n",
    "##### Recursive DLS\n"
   ]
  },
  {
   "attachments": {},
   "cell_type": "markdown",
   "metadata": {},
   "source": [
    "### [Breadth First Search (BFS)](https://en.wikipedia.org/wiki/Breadth-first_search)\n",
    "\n",
    "Is an algorithm for **traversing or searching tree or graph data structures**.\n",
    "\n",
    "It starts at the tree root (or some arbitrary node of a graph, sometimes referred to as a 'search key'[1]), and explores all of the neighbor nodes at the present depth prior to moving on to the nodes at the next depth level.\n",
    "\n",
    "- Complexity: $ O(V+E) $\n",
    "- Space: $ O(V) $\n",
    "\n",
    "where $V$ is the number of vertices and $E$ is the number of edges.\n",
    "\n",
    "![bfs_01](./../resources/img/bfs.gif)"
   ]
  },
  {
   "cell_type": "code",
   "execution_count": 8,
   "metadata": {},
   "outputs": [],
   "source": [
    "def breadth_first_search(self, initial_state) -> None:\n",
    "    \"\"\"\n",
    "    Breadth First Search algorithm\n",
    "    \"\"\"\n",
    "    pass"
   ]
  },
  {
   "attachments": {},
   "cell_type": "markdown",
   "metadata": {},
   "source": [
    "### [Uniform Cost Search (UCS)](https://en.wikipedia.org/wiki/Dijkstra%27s_algorithm)\n",
    "\n",
    "This algorithm is very similar to Dijkstra's algorithm for finding the shortest path between nodes in a graph, but with a different **evaluation function** (\"Dijsktra for large graphs...\").\n",
    "\n",
    "The UCS algorithm is a **greedy algorithm** that finds a **minimum spanning tree** for a weighted undirected graph.\n",
    "\n",
    "Always evaluates the node with the **lowest path cost**.\n",
    "\n",
    "- Complexity: $ O(b^{1+\\frac{C*}{\\epsilon}}) $\n",
    "- Space: $ O(b^{1+\\frac{C*}{\\epsilon}}) $\n",
    "\n",
    "where $b$ is the branching factor, $C*$ is the cost of the optimal solution, and $\\epsilon$ is the accuracy of the heuristic.\n",
    "\n",
    "![ucs_01](./../resources/img/ucs.gif)"
   ]
  },
  {
   "cell_type": "code",
   "execution_count": 9,
   "metadata": {},
   "outputs": [],
   "source": [
    "def uniform_cost_search(self, initial_state) -> None:\n",
    "    \"\"\"\n",
    "    Uniform Cost Search algorithm\n",
    "\n",
    "    This algorithm is a special case of the A* algorithm\n",
    "    \n",
    "    \"\"\"\n",
    "    pass"
   ]
  },
  {
   "attachments": {},
   "cell_type": "markdown",
   "metadata": {},
   "source": [
    "#### Dijkstra's Algorithm\n",
    "\n",
    "Is an algorithm for finding the shortest paths between nodes in a graph, which may represent, for example, road networks. It was conceived by computer scientist Edsger W. Dijkstra in 1956 and published three years later.\n",
    "\n",
    "- Complexity: $ O(V^2) $\n",
    "- Space: $ O(V) $\n",
    "\n",
    "where $V$ is the number of vertices.\n",
    "\n",
    "![dijkstra](./../resources/img/dijkstra.gif)"
   ]
  },
  {
   "attachments": {},
   "cell_type": "markdown",
   "metadata": {},
   "source": [
    "----\n",
    "# Test It\n",
    "\n",
    "\n",
    "- [some animation comparason](https://www3.cs.stonybrook.edu/~skiena/combinatorica/animations/search.html)"
   ]
  },
  {
   "cell_type": "code",
   "execution_count": null,
   "metadata": {},
   "outputs": [],
   "source": []
  }
 ],
 "metadata": {
  "kernelspec": {
   "display_name": ".venv",
   "language": "python",
   "name": "python3"
  },
  "language_info": {
   "codemirror_mode": {
    "name": "ipython",
    "version": 3
   },
   "file_extension": ".py",
   "mimetype": "text/x-python",
   "name": "python",
   "nbconvert_exporter": "python",
   "pygments_lexer": "ipython3",
   "version": "3.11.1 (tags/v3.11.1:a7a450f, Dec  6 2022, 19:58:39) [MSC v.1934 64 bit (AMD64)]"
  },
  "orig_nbformat": 4,
  "vscode": {
   "interpreter": {
    "hash": "ba1a57c99dd12c2ed6d86000860afd60b875372e8f08eb18decb25556efe31d1"
   }
  }
 },
 "nbformat": 4,
 "nbformat_minor": 2
}
