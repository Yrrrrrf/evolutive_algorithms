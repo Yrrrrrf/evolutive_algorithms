{
 "cells": [
  {
   "attachments": {},
   "cell_type": "markdown",
   "metadata": {},
   "source": [
    "# [Uninformed Search Algorithms](00_main_report.ipynb)\n",
    "\n",
    "The informed search algorithms are a class of algorithms that use problem-specific knowledge to guide the search. \n",
    "\n",
    "$$ f(n) = g(n) + h(n) $$\n",
    "\n",
    "where $f(n)$ is the total cost of the node, $g(n)$ is the cost to reach the node, and $h(n)$ is the heuristic cost of the node.\n",
    "\n",
    "```mermaid\n",
    "graph LR\n",
    "A((Start)) --> B((Goal))\n",
    "A --> D((D))\n",
    "A --> E((E))\n",
    "D --> F((F))\n",
    "E --> F\n",
    "F --> B\n",
    "```\n",
    "\n",
    "In this notebook, we will implement the following informed search algorithms:\n",
    "\n",
    "- Depth First Search (DFS)\n",
    "    - Depth Limited Search (DLS)\n",
    "    - Iterative Deepening Search (IDS)\n",
    "    - Recursive Depth Limited Search (RDLS)\n",
    "- Breadth First Search (BFS)\n",
    "- Uniform Cost Search  (UCS)"
   ]
  },
  {
   "cell_type": "code",
   "execution_count": 1,
   "metadata": {},
   "outputs": [],
   "source": [
    "from collections import deque\n",
    "from queue import Queue\n",
    "from timeit import timeit  # for timing the algorithms\n",
    "\n",
    "import networkx as nx  # for visualizing the graphs\n",
    "\n",
    "G = {  # test graph\n",
    "    \"A\": [\"B\", \"C\"],\n",
    "    \"B\": [\"A\", \"D\", \"E\"],\n",
    "    \"C\": [\"A\", \"F\"],\n",
    "    \"D\": [\"B\"],\n",
    "    \"E\": [\"B\", \"F\"],\n",
    "    \"F\": [\"C\", \"E\"],\n",
    "}\n",
    "\n",
    "# ? BENCHMARK FUNCTION --------------------------------------------------------------------------------------------------------------------------------------------------------\n",
    "\n",
    "def benchmark_function(name: str, iter: int=10000) -> None:\n",
    "    setup = f\"from __main__ import G, {name}\"  # setup the function\n",
    "    res = timeit(f\"{name}(G, 'A')\", setup=setup, number=iter)  # time the function\n",
    "    print(f\"{name:<25} finished {iter} runs in {res:.5f} seconds\")  # print the results"
   ]
  },
  {
   "attachments": {},
   "cell_type": "markdown",
   "metadata": {},
   "source": [
    "```mermaid\n",
    "graph LR\n",
    "A --> B\n",
    "A --> C\n",
    "\n",
    "B --> A\n",
    "B --> D\n",
    "B --> E\n",
    "\n",
    "C --> A\n",
    "C --> F\n",
    "\n",
    "D --> B\n",
    "\n",
    "E --> B\n",
    "E --> F\n",
    "\n",
    "F --> C\n",
    "F --> E\n",
    "```"
   ]
  },
  {
   "attachments": {},
   "cell_type": "markdown",
   "metadata": {},
   "source": [
    "### [Depth First Search (DFS)](https://en.wikipedia.org/wiki/Depth-first_search)\n",
    "\n",
    "Is an algorithm for **traversing or searching tree or graph data structures**. The algorithm starts at the root node (selecting some arbitrary node as the root node in the case of a graph) and explores as far as possible along each branch before backtracking.\n",
    "\n",
    "- $ Complexity: O(b^d) $\n",
    "- $ Space: O(bd) $\n",
    "\n",
    "where $b$ is the branching factor and $d$ is the depth of the goal node.\n",
    "\n",
    "![dfs_01](./../resources/img/dfs_vs_bfs.gif)"
   ]
  },
  {
   "cell_type": "code",
   "execution_count": 20,
   "metadata": {},
   "outputs": [],
   "source": [
    "def depth_first_search(graph: dict, start: str) -> set:\n",
    "    \"\"\"\n",
    "    Implementation of depth first search using collection.deque.\n",
    "    \n",
    "    ### Differences from BFS:\n",
    "    1) pop last element instead of first one\n",
    "    2) add adjacent elements to stack without exploring them\n",
    "    3) add explored nodes to explored set\n",
    "    4) return explored set instead of solution\n",
    "    \"\"\"\n",
    "    explored: set = set(start)  # set of explored nodes\n",
    "    stack: list = [start]  # use list as a stack\n",
    "\n",
    "    while stack:  # while stack is not empty\n",
    "        v = stack.pop()  # pop last element\n",
    "        explored.add(v)  # add to explored nodes\n",
    "        for adj in reversed(graph[v]):  # for each adjacent node\n",
    "            if adj not in explored:  # if not explored\n",
    "                stack.append(adj)  # add to stack\n",
    "    return explored  # return the explored nodes"
   ]
  },
  {
   "attachments": {},
   "cell_type": "markdown",
   "metadata": {},
   "source": [
    "#### Depth Limited Search (DLS)\n",
    "\n",
    "Is a variant of depth-first search that limits the depth of the search tree. It is a recursive algorithm that uses a depth limit $l$ as a stopping condition. If the depth of the node exceeds the limit, the search is terminated."
   ]
  },
  {
   "cell_type": "code",
   "execution_count": 8,
   "metadata": {},
   "outputs": [],
   "source": [
    "def depth_limited_search(graph: dict, start: str, limit: int = 2) -> list[str]:\n",
    "    \"\"\"\n",
    "    Depth Limited Search algorithm\n",
    "    \"\"\"\n",
    "    visited = {start}  # set of visited nodes\n",
    "    result = [start]  # list of visited nodes\n",
    "    stack = [start]  # stack of visited nodes\n",
    "    while stack:  # while stack is not empty\n",
    "        v = stack.pop()  # get the last node from the stack\n",
    "        if len(result) > limit:  # if the limit is reached\n",
    "            return result  # return the result list (visited nodes)\n",
    "        for child in graph[v]:  # for each child of the node\n",
    "            if child not in visited:  # if child is not visited\n",
    "                visited.add(child)  # mark child as visited\n",
    "                result.append(child)  # add child to the result\n",
    "                stack.append(child)  # add child to the stack\n",
    "    return result  # return the result list (visited nodes)"
   ]
  },
  {
   "attachments": {},
   "cell_type": "markdown",
   "metadata": {},
   "source": [
    "##### Iterative (IDS or IDDFS)\n",
    "\n",
    "Is a state space/graph search strategy in which a depth-limited version of depth-first search is run repeatedly with increasing depth limits until the goal is found.\n",
    "\n",
    "IDDFS is optimal like breadth-first search, but **uses much less memory; at each iteration**, it visits the nodes in the search tree in the same order as depth-first search, but the cumulative order in which nodes are first visited is effectively breadth-firs"
   ]
  },
  {
   "cell_type": "code",
   "execution_count": 16,
   "metadata": {},
   "outputs": [],
   "source": [
    "def iterative_deepening_search(graph: dict, start: str, goal: str = 'D') -> list[str]:\n",
    "    \"\"\"\n",
    "    Iterative Deepening Search algorithm\n",
    "    \"\"\"\n",
    "    for depth in range(0, len(graph)):  # for each depth\n",
    "        result = depth_limited_search(graph, start, depth)  # search for the goal\n",
    "        if result[-1] == goal:  # if the goal is found\n",
    "            return result  # return the result list (visited nodes)\n",
    "    return []  # return empty list if the goal is not found\n"
   ]
  },
  {
   "attachments": {},
   "cell_type": "markdown",
   "metadata": {},
   "source": [
    "#### Recursive Depth Limited Search (RDLS)\n",
    "\n",
    "Is a variant of depth-first search that limits the depth of the search tree. It is a recursive algorithm that uses a depth limit $l$ as a stopping condition. If the depth of the node exceeds the limit, the search is terminated."
   ]
  },
  {
   "cell_type": "code",
   "execution_count": 19,
   "metadata": {},
   "outputs": [],
   "source": [
    "def recursive_dls(graph: dict, start: str, goal: str, limit: int) -> list[str]:\n",
    "    \"\"\"\n",
    "    Recursive Depth Limited Search algorithm\n",
    "    \"\"\"\n",
    "    visited = {start}  # set of visited nodes\n",
    "    result = [start]  # list of visited nodes\n",
    "    if start == goal:  # if the goal is found\n",
    "        return result  # return the result list (visited nodes)\n",
    "    elif limit == 0:  # if the limit is reached\n",
    "        return []  # return empty list\n",
    "    else:\n",
    "        for child in graph[start]:  # for each child of the node\n",
    "            if child not in visited:  # if child is not visited\n",
    "                visited.add(child)  # mark child as visited\n",
    "                result.append(child)  # add child to the result\n",
    "                result = recursive_dls(graph, child, goal, limit - 1)  # search for the goal\n",
    "                if result:  # if the goal is found\n",
    "                    return result  # return the result list (visited nodes)\n",
    "    return []  # return empty list if the goal is not found"
   ]
  },
  {
   "attachments": {},
   "cell_type": "markdown",
   "metadata": {},
   "source": [
    "### [Breadth First Search (BFS)](https://en.wikipedia.org/wiki/Breadth-first_search)\n",
    "\n",
    "Is an algorithm for **traversing or searching tree or graph data structures**.\n",
    "\n",
    "It starts at the tree root (or some arbitrary node of a graph, sometimes referred to as a 'search key'[1]), and explores all of the neighbor nodes at the present depth prior to moving on to the nodes at the next depth level.\n",
    "\n",
    "- Complexity: $ O(V+E) $\n",
    "- Space: $ O(V) $\n",
    "\n",
    "where $V$ is the number of vertices and $E$ is the number of edges.\n",
    "\n",
    "![bfs_01](./../resources/img/bfs.gif)"
   ]
  },
  {
   "cell_type": "code",
   "execution_count": 8,
   "metadata": {},
   "outputs": [],
   "source": [
    "def breadth_first_search(graph: dict, start: str) -> list[str]:\n",
    "    \"\"\"\n",
    "    Breadth First Search algorithm\n",
    "    \"\"\"\n",
    "    visited = {start}  # set of visited nodes\n",
    "    result = [start]  # list of visited nodes\n",
    "    queue = Queue()  # queue of visited nodes\n",
    "    queue.put(start)  # add start node to the queue\n",
    "    while not queue.empty():  # while queue is not empty\n",
    "        v = queue.get()  # get the first node from the queue\n",
    "        for child in graph[v]:  # for each child of the node\n",
    "            if child not in visited:  # if child is not visited\n",
    "                visited.add(child)  # mark child as visited\n",
    "                result.append(child)  # add child to the result\n",
    "                queue.put(child)  # add child to the queue\n",
    "    return result  # return the result list (visited nodes)"
   ]
  },
  {
   "attachments": {},
   "cell_type": "markdown",
   "metadata": {},
   "source": [
    "### [Uniform Cost Search (UCS)](https://en.wikipedia.org/wiki/Dijkstra%27s_algorithm)\n",
    "\n",
    "This algorithm is very similar to Dijkstra's algorithm for finding the shortest path between nodes in a graph, but with a different **evaluation function** (\"Dijsktra for large graphs...\").\n",
    "\n",
    "The UCS algorithm is a **greedy algorithm** that finds a **minimum spanning tree** for a weighted undirected graph.\n",
    "\n",
    "Always evaluates the node with the **lowest path cost**.\n",
    "\n",
    "- Complexity: $ O(b^{1+\\frac{C*}{\\epsilon}}) $\n",
    "- Space: $ O(b^{1+\\frac{C*}{\\epsilon}}) $\n",
    "\n",
    "where $b$ is the branching factor, $C*$ is the cost of the optimal solution, and $\\epsilon$ is the accuracy of the heuristic.\n",
    "\n",
    "![ucs_01](./../resources/img/ucs.gif)"
   ]
  },
  {
   "cell_type": "code",
   "execution_count": 9,
   "metadata": {},
   "outputs": [],
   "source": [
    "def uniform_cost_search(self, initial_state) -> None:\n",
    "    \"\"\"\n",
    "    Uniform Cost Search algorithm\n",
    "\n",
    "    This algorithm is a special case of the A* algorithm\n",
    "    \n",
    "    \"\"\"\n",
    "    pass"
   ]
  },
  {
   "attachments": {},
   "cell_type": "markdown",
   "metadata": {},
   "source": [
    "#### Dijkstra's Algorithm\n",
    "\n",
    "Is an algorithm for finding the shortest paths between nodes in a graph, which may represent, for example, road networks. It was conceived by computer scientist Edsger W. Dijkstra in 1956 and published three years later.\n",
    "\n",
    "- Complexity: $ O(V^2) $\n",
    "- Space: $ O(V) $\n",
    "\n",
    "where $V$ is the number of vertices.\n",
    "\n",
    "![dijkstra](./../resources/img/dijkstra.gif)"
   ]
  },
  {
   "attachments": {},
   "cell_type": "markdown",
   "metadata": {},
   "source": [
    "----\n",
    "# Test It\n",
    "\n",
    "\n",
    "- [some animation comparason](https://www3.cs.stonybrook.edu/~skiena/combinatorica/animations/search.html)"
   ]
  },
  {
   "cell_type": "code",
   "execution_count": 23,
   "metadata": {},
   "outputs": [
    {
     "name": "stdout",
     "output_type": "stream",
     "text": [
      "depth_first_search        finished 10000 runs in 0.02551 seconds\n",
      "depth_first_search        finished 100000 runs in 0.20951 seconds\n",
      "depth_limited_search      finished 10000 runs in 0.00595 seconds\n",
      "depth_limited_search      finished 100000 runs in 0.05862 seconds\n",
      "iterative_deepening_search finished 10000 runs in 0.05646 seconds\n",
      "iterative_deepening_search finished 100000 runs in 0.60497 seconds\n",
      "breadth_first_search      finished 10000 runs in 0.01538 seconds\n",
      "breadth_first_search      finished 100000 runs in 0.16069 seconds\n"
     ]
    }
   ],
   "source": [
    "if __name__ == \"__main__\":\n",
    "    import doctest  # for testing the functions\n",
    "    doctest.testmod()  # run doctests\n",
    "\n",
    "    benchmark_function(\"depth_first_search\", iter=10000)\n",
    "    benchmark_function(\"depth_first_search\", iter=100000)\n",
    "\n",
    "    benchmark_function(\"depth_limited_search\", iter=10000)\n",
    "    benchmark_function(\"depth_limited_search\", iter=100000)\n",
    "\n",
    "    benchmark_function(\"iterative_deepening_search\", iter=10000)\n",
    "    benchmark_function(\"iterative_deepening_search\", iter=100000)\n",
    "\n",
    "    benchmark_function(\"breadth_first_search\", iter=10000)\n",
    "    benchmark_function(\"breadth_first_search\", iter=100000)\n",
    "\n",
    "    # benchmark_function(\"uniform_cost_search\")\n",
    "    \n",
    "    # benchmark_function(\"dijkstra\")\n",
    "    "
   ]
  }
 ],
 "metadata": {
  "kernelspec": {
   "display_name": ".venv",
   "language": "python",
   "name": "python3"
  },
  "language_info": {
   "codemirror_mode": {
    "name": "ipython",
    "version": 3
   },
   "file_extension": ".py",
   "mimetype": "text/x-python",
   "name": "python",
   "nbconvert_exporter": "python",
   "pygments_lexer": "ipython3",
   "version": "3.11.1"
  },
  "orig_nbformat": 4,
  "vscode": {
   "interpreter": {
    "hash": "e3ac61930faa971dd91e5dae6febfa67d1f8b5e0d783110b27f8afd9e3576759"
   }
  }
 },
 "nbformat": 4,
 "nbformat_minor": 2
}
