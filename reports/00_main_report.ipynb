{
 "cells": [
  {
   "attachments": {},
   "cell_type": "markdown",
   "metadata": {},
   "source": [
    "# Eight Puzzle Main Report\n",
    "\n",
    "This is the main report for the project. It is intended to be used as a starting point for the project. It is not intended to be a final report.\n",
    "\n",
    "This notebook is generated from the `reports/00_main.ipynb` file and it's supposed to be the main report for the project and be as an index for the other reports."
   ]
  },
  {
   "cell_type": "code",
   "execution_count": null,
   "metadata": {},
   "outputs": [],
   "source": []
  },
  {
   "attachments": {},
   "cell_type": "markdown",
   "metadata": {},
   "source": [
    "## Index\n",
    "\n",
    "- [Search Algorithms](search_agorithms.ipynb)\n",
    "- [Informed Search](informed_search_algorithms.ipynb)\n",
    "- [Uninformed Search](uninformed_search_algorithms.ipynb)\n",
    "\n",
    "- [readme](./../README.md)\n",
    "- [main.py](./../src/main.py)\n"
   ]
  },
  {
   "cell_type": "markdown",
   "metadata": {},
   "source": []
  }
 ],
 "metadata": {
  "kernelspec": {
   "display_name": ".venv",
   "language": "python",
   "name": "python3"
  },
  "language_info": {
   "name": "python",
   "version": "3.11.1 (tags/v3.11.1:a7a450f, Dec  6 2022, 19:58:39) [MSC v.1934 64 bit (AMD64)]"
  },
  "orig_nbformat": 4,
  "vscode": {
   "interpreter": {
    "hash": "ba1a57c99dd12c2ed6d86000860afd60b875372e8f08eb18decb25556efe31d1"
   }
  }
 },
 "nbformat": 4,
 "nbformat_minor": 2
}
