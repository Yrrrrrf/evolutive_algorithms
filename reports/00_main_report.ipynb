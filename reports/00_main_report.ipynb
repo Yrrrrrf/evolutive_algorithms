{
 "cells": [
  {
   "attachments": {},
   "cell_type": "markdown",
   "metadata": {},
   "source": [
    "# Eight Puzzle Main Report\n",
    "\n",
    "This is the main report for the project. It is intended to be used as a starting point for the project. It is not intended to be a final report.\n",
    "\n",
    "This notebook is generated from the `reports/00_main.ipynb` file and it's supposed to be the main report for the project and be as an index for the other reports."
   ]
  },
  {
   "cell_type": "code",
   "execution_count": null,
   "metadata": {},
   "outputs": [],
   "source": []
  },
  {
   "attachments": {},
   "cell_type": "markdown",
   "metadata": {},
   "source": [
    "## Index\n",
    "\n",
    "- [Search Algorithms](search_agorithms.ipynb)\n",
    "- [Informed Search](informed_search_algorithms.ipynb)\n",
    "- [Uninformed Search](uninformed_search_algorithms.ipynb)\n",
    "\n",
    "- [readme](./../README.md)\n",
    "- [main.py](./../src/main.py)\n"
   ]
  },
  {
   "cell_type": "markdown",
   "metadata": {},
   "source": []
  }
 ],
 "metadata": {
  "kernelspec": {
   "display_name": ".venv",
   "language": "python",
   "name": "python3"
  },
  "language_info": {
   "name": "python",
   "version": "3.11.1"
  },
  "orig_nbformat": 4,
  "vscode": {
   "interpreter": {
    "hash": "6e3d70df6a5ce207ce7a7f6a7b663f5c37852bdb8b43f9bc1580296a1a0308a6"
   }
  }
 },
 "nbformat": 4,
 "nbformat_minor": 2
}
