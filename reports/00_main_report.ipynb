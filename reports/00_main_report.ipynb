{
 "cells": [
  {
   "attachments": {},
   "cell_type": "markdown",
   "metadata": {},
   "source": [
    "# Evolutive Algorithms Main Report\n",
    "\n",
    "This is the main report for the project. It is intended to be used as a starting point for the project. It is not intended to be a final report.\n",
    "\n",
    "This notebook is generated from the `reports/00_main.ipynb` file and it's supposed to be the main report for the project and be as an index for the other reports."
   ]
  },
  {
   "cell_type": "code",
   "execution_count": 22,
   "metadata": {},
   "outputs": [],
   "source": [
    "import colorama"
   ]
  },
  {
   "attachments": {},
   "cell_type": "markdown",
   "metadata": {},
   "source": [
    "## Index\n",
    "\n",
    "### [readme](./../README.md)\n",
    "\n",
    "### [n-puzzle](n_puzzle.ipynb)\n",
    "N-puzzle is a sliding puzzle that consists of a frame of numbered square tiles in random order with one tile missing. The object of the puzzle is to place the tiles in order by making sliding moves that use the empty space.\n",
    "\n",
    "### Search Algorithms\n",
    "\n",
    "A search problem consists of: \n",
    "A State Space. Set of all possible states where you can be.\n",
    "A Start State. The state from where the search begins.\n",
    "A Goal Test. A function that looks at the current state returns whether or not it is the goal state.\n",
    "The Solution to a search problem is a sequence of actions, called the plan that transforms the start state to the goal state.\n",
    "This plan is achieved through search algorithms.\n",
    "\n",
    "##### [Informed Search](informed_search_algorithms.ipynb)\n",
    "- A* Search\n",
    "- Greedy Best First Search (GBFS)\n",
    "- Hill Climbing Search (HCS)\n",
    "- Recursive Best First Search (RBFS)\n",
    "- Iterative Deepening A* Search (IDA*)\n",
    "\n",
    "##### [Uninformed Search](uninformed_search_algorithms.ipynb)\n",
    "- Depth First Search (DFS)\n",
    "    - Depth Limited Search (DLS)\n",
    "    - Iterative Deepening Search (IDS)\n",
    "    - Recursive Depth Limited Search (RDLS)\n",
    "- Breadth First Search (BFS)\n",
    "- Uniform Cost Search  (UCS)\n",
    "\n",
    "### [App Documentation](app_documentation.ipynb)\n",
    "- Logic\n",
    "- GUI\n",
    "- Tests\n"
   ]
  }
 ],
 "metadata": {
  "kernelspec": {
   "display_name": ".venv",
   "language": "python",
   "name": "python3"
  },
  "language_info": {
   "codemirror_mode": {
    "name": "ipython",
    "version": 3
   },
   "file_extension": ".py",
   "mimetype": "text/x-python",
   "name": "python",
   "nbconvert_exporter": "python",
   "pygments_lexer": "ipython3",
   "version": "3.11.1 (tags/v3.11.1:a7a450f, Dec  6 2022, 19:58:39) [MSC v.1934 64 bit (AMD64)]"
  },
  "orig_nbformat": 4,
  "vscode": {
   "interpreter": {
    "hash": "ba1a57c99dd12c2ed6d86000860afd60b875372e8f08eb18decb25556efe31d1"
   }
  }
 },
 "nbformat": 4,
 "nbformat_minor": 2
}
